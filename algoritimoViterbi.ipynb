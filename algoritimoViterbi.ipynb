{
 "cells": [
  {
   "cell_type": "code",
   "execution_count": 5,
   "metadata": {},
   "outputs": [],
   "source": [
    "# Estados H y L\n",
    "\n",
    "estados = ['H', 'L']\n",
    "\n",
    "# observaciones que forman la matriz de emision ACGT\n",
    "\n",
    "observaciones = ['A', 'C', 'G', 'T']\n",
    "\n",
    "# Probabilidades iniciales de cada estado\n",
    "\n",
    "prob_inicial = {'H': -1.0, 'L': -1.0}\n",
    "\n",
    "# Probabilidades de transición\n",
    "\n",
    "prob_transicion = {\n",
    "    'H': {'H': -1.0, 'L': -1.0 },\n",
    "    'L': {'H': -1.322, 'L': -0.737 }\n",
    "}\n",
    "\n",
    "# Probabilidades de emisión\n",
    "prob_emision = {\n",
    "    'H': {'A': -2.322, 'C': -1.737,  'G': -1.737,  'T': -2.322 },\n",
    "    'L': {'A': -1.737, 'C': -2.322,  'G': -2.322,  'T': -1.737 }\n",
    "\n",
    "}"
   ]
  },
  {
   "cell_type": "code",
   "execution_count": 6,
   "metadata": {},
   "outputs": [],
   "source": [
    "# Diccionario del modelo oculto de Markov\n",
    "modelo_HMM = {\n",
    "    'estados': estados,\n",
    "    'observaciones': observaciones,\n",
    "    'prob_inicial': prob_inicial,\n",
    "    'prob_transicion': prob_transicion,\n",
    "    'prob_emision': prob_emision\n",
    "}"
   ]
  },
  {
   "cell_type": "code",
   "execution_count": 7,
   "metadata": {},
   "outputs": [
    {
     "name": "stdout",
     "output_type": "stream",
     "text": [
      "{'estados': ['H', 'L'], 'observaciones': ['A', 'C', 'G', 'T'], 'prob_inicial': {'H': -1.0, 'L': -1.0}, 'prob_transicion': {'H': {'H': -1.0, 'L': -1.0}, 'L': {'H': -1.322, 'L': -0.737}}, 'prob_emision': {'H': {'A': -2.322, 'C': -1.737, 'G': -1.737, 'T': -2.322}, 'L': {'A': -1.737, 'C': -2.322, 'G': -2.322, 'T': -1.737}}}\n"
     ]
    }
   ],
   "source": [
    "print(modelo_HMM)"
   ]
  },
  {
   "cell_type": "code",
   "execution_count": 10,
   "metadata": {},
   "outputs": [
    {
     "name": "stdout",
     "output_type": "stream",
     "text": [
      "Secuencia de estados más probable: ['L', 'L', 'L', 'H', 'H', 'L']\n",
      "Probabilidad de la secuencia: -16.218000000000004\n"
     ]
    }
   ],
   "source": [
    "def viterbi(obs, states, start_p, trans_p, emit_p):\n",
    "    V = [{}]\n",
    "    path = {}\n",
    "\n",
    "    # Inicialización\n",
    "    for state in states:\n",
    "        V[0][state] = start_p[state] + emit_p[state][obs[0]]\n",
    "        path[state] = [state]\n",
    "\n",
    "    # Iteración a lo largo de las observaciones\n",
    "    for t in range(1, len(obs)):\n",
    "        V.append({})\n",
    "        new_path = {}\n",
    "\n",
    "        for current_state in states:\n",
    "            (prob, state) = max(\n",
    "                (V[t - 1][prev_state] + trans_p[prev_state][current_state] + emit_p[current_state][obs[t]], prev_state)\n",
    "                for prev_state in states)\n",
    "            V[t][current_state] = prob\n",
    "            new_path[current_state] = path[state] + [current_state]\n",
    "\n",
    "        path = new_path\n",
    "\n",
    "    # Encontrar el estado final más probable\n",
    "    (prob, state) = max((V[len(obs) - 1][final_state], final_state) for final_state in states)\n",
    "\n",
    "    # Retorna la secuencia de estados más probable y su probabilidad\n",
    "    return path[state], prob\n",
    "\n",
    "# Conjunto de estados\n",
    "estados = ['H', 'L']   # H y L\n",
    "\n",
    "# Probabilidades iniciales de estado\n",
    "prob_inicial = {'H': -1.0, 'L': -1.0}\n",
    "\n",
    "# Probabilidades de transición\n",
    "prob_transicion = {\n",
    "    'H': {'H': -1.0, 'L': -1.0 },\n",
    "    'L': {'H': -1.322, 'L': -0.737 }\n",
    "}\n",
    "\n",
    "# Probabilidades de emisión\n",
    "prob_emision = {\n",
    "    'H': {'A': -2.322, 'C': -1.737,  'G': -1.737,  'T': -2.322 },\n",
    "    'L': {'A': -1.737, 'C': -2.322,  'G': -2.322,  'T': -1.737 }\n",
    "\n",
    "}\n",
    "\n",
    "# Solicitar al usuario ingresar las observaciones\n",
    "observaciones = input(\"Ingrese las observaciones separadas por espacios: \").split()\n",
    "\n",
    "# Realiza la decodificación de Viterbi\n",
    "secuencia_estados, probabilidad = viterbi(observaciones, estados, prob_inicial, prob_transicion, prob_emision)\n",
    "\n",
    "print(\"Secuencia de estados más probable:\", secuencia_estados)\n",
    "print(\"Probabilidad de la secuencia:\", probabilidad)"
   ]
  }
 ],
 "metadata": {
  "kernelspec": {
   "display_name": "Python 3",
   "language": "python",
   "name": "python3"
  },
  "language_info": {
   "codemirror_mode": {
    "name": "ipython",
    "version": 3
   },
   "file_extension": ".py",
   "mimetype": "text/x-python",
   "name": "python",
   "nbconvert_exporter": "python",
   "pygments_lexer": "ipython3",
   "version": "3.10.11"
  }
 },
 "nbformat": 4,
 "nbformat_minor": 2
}
